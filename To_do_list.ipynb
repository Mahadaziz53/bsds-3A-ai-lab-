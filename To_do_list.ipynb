{
 "cells": [
  {
   "cell_type": "code",
   "execution_count": 2,
   "metadata": {},
   "outputs": [
    {
     "name": "stdout",
     "output_type": "stream",
     "text": [
      "Your tasks right now: []\n",
      "task was added\n",
      "Task added\n",
      "Your tasks right now: ['say hello']\n",
      "ended\n"
     ]
    }
   ],
   "source": [
    "TASKS_FILE = \"all_tasks.txt\"\n",
    "tasks_list = []\n",
    "\n",
    "\n",
    "\n",
    "\n",
    "\n",
    "\n",
    "while True:\n",
    "    print(\"Your tasks right now:\", tasks_list)\n",
    "    what_to_do = input(\"Do you want to add, view, REMove or quit? \").lower()\n",
    "\n",
    "\n",
    "\n",
    "\n",
    "\n",
    "\n",
    "    if what_to_do == \"add\":\n",
    "        newtask = input(\"Write YOUR task: \")\n",
    "        priority = input(\"What is the priority level (low, medium, high): \")\n",
    "        tasks_list.append(newtask)\n",
    "        print(\"task was added\")\n",
    "\n",
    "\n",
    "\n",
    "\n",
    "        with open(TASKS_FILE, \"a\") as tasks:\n",
    "\n",
    "            tasks.write(f\"{newtask} priority level: {priority}\\n\")\n",
    "            print(\"Task added\")\n",
    "\n",
    "\n",
    "\n",
    "\n",
    "\n",
    "\n",
    "\n",
    "    elif what_to_do == \"remove\":\n",
    "        taskname = input(\"Which task to remove? write exact: \")\n",
    "\n",
    "\n",
    "\n",
    "\n",
    "        if taskname in tasks_list:\n",
    "            tasks_list.remove(taskname)\n",
    "            print(\"removed\")\n",
    "        else:\n",
    "            print(\"task not found\")\n",
    "    \n",
    "\n",
    "\n",
    "\n",
    "\n",
    "    elif what_to_do == \"view tasks\":\n",
    "        tasks = tasks.read()\n",
    "        print(tasks)\n",
    "\n",
    "\n",
    "\n",
    "\n",
    "    elif what_to_do == \"quit\":\n",
    "        print(\"ended\")\n",
    "        break\n",
    "\n",
    "\n",
    "\n",
    "\n",
    "    else:\n",
    "        print(\"wrong answer\")\n",
    "\n",
    "\n",
    "\n",
    "\n"
   ]
  },
  {
   "cell_type": "code",
   "execution_count": null,
   "metadata": {},
   "outputs": [],
   "source": []
  }
 ],
 "metadata": {
  "kernelspec": {
   "display_name": "Python 3",
   "language": "python",
   "name": "python3"
  },
  "language_info": {
   "codemirror_mode": {
    "name": "ipython",
    "version": 3
   },
   "file_extension": ".py",
   "mimetype": "text/x-python",
   "name": "python",
   "nbconvert_exporter": "python",
   "pygments_lexer": "ipython3",
   "version": "3.13.0"
  }
 },
 "nbformat": 4,
 "nbformat_minor": 2
}
